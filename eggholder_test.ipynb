{
 "cells": [
  {
   "cell_type": "code",
   "execution_count": 34,
   "metadata": {},
   "outputs": [
    {
     "name": "stdout",
     "output_type": "stream",
     "text": [
      "0, 1, "
     ]
    },
    {
     "name": "stderr",
     "output_type": "stream",
     "text": [
      "/home/pickingchallenge/mmxc2/4M17/optimisation.py:72: RuntimeWarning: overflow encountered in exp\n",
      "  ap = np.exp((old_cost-new_cost)/T)\n"
     ]
    },
    {
     "name": "stdout",
     "output_type": "stream",
     "text": [
      "2, 3, 4, 5, 6, 7, 8, 9, "
     ]
    }
   ],
   "source": [
    "import optimisation as op\n",
    "import numpy as np\n",
    "\n",
    "DIMENSIONS = 2\n",
    "RANDOM_RNG = 10\n",
    "\n",
    "sol_store = np.zeros((RANDOM_RNG,DIMENSIONS,1))\n",
    "cos_store = np.zeros((RANDOM_RNG,1))\n",
    "#print(sol_store)\n",
    "\n",
    "for r in range(RANDOM_RNG):\n",
    "    print (str(r),end=', ')\n",
    "    sol, cost = op.anneal(DIMENSIONS, rseed=r, disp=False)\n",
    "    sol_store[r] = sol\n",
    "    cos_store[r] = cost"
   ]
  },
  {
   "cell_type": "code",
   "execution_count": 35,
   "metadata": {},
   "outputs": [
    {
     "name": "stdout",
     "output_type": "stream",
     "text": [
      "-959.638618657\n",
      "[[ 512.        ]\n",
      " [ 404.18939583]]\n"
     ]
    }
   ],
   "source": [
    "print (np.min(cos_store))\n",
    "print (sol_store[np.argmin(cos_store)])"
   ]
  },
  {
   "cell_type": "code",
   "execution_count": 53,
   "metadata": {},
   "outputs": [],
   "source": [
    "final_gen, mean_cost, mini_cost = op.genetic_alg(dim=2, popsize=3000, num_child=6, \n",
    "                        chance_mutation=0.4, fit=700, luck=300, num_gen=1000, rseed=0, log_cost=True)"
   ]
  },
  {
   "cell_type": "code",
   "execution_count": 54,
   "metadata": {},
   "outputs": [
    {
     "name": "stdout",
     "output_type": "stream",
     "text": [
      "MEAN COST:       -211.408594875\n",
      "MINIMISED COST:  -896.459537397\n",
      "MINIMUM ID:      501\n",
      "MINIMUM VAL:     [[ 500.51807816]\n",
      " [ 392.15754966]]\n"
     ]
    }
   ],
   "source": [
    "op.eggholder(final_gen)\n",
    "print (\"MEAN COST:      \", np.mean(op.eggholder(final_gen)))\n",
    "print (\"MINIMISED COST: \", np.min(op.eggholder(final_gen)))\n",
    "print (\"MINIMUM ID:     \",np.argmin(op.eggholder(final_gen)))\n",
    "print (\"MINIMUM VAL:    \",final_gen[np.argmin(op.eggholder(final_gen))])"
   ]
  },
  {
   "cell_type": "code",
   "execution_count": 55,
   "metadata": {},
   "outputs": [
    {
     "data": {
      "text/plain": [
       "-896.45953739731874"
      ]
     },
     "execution_count": 55,
     "metadata": {},
     "output_type": "execute_result"
    }
   ],
   "source": [
    "final_min = final_gen[np.argmin(op.eggholder(final_gen))]\n",
    "op.eggholder(final_min)\n"
   ]
  },
  {
   "cell_type": "code",
   "execution_count": null,
   "metadata": {},
   "outputs": [],
   "source": []
  },
  {
   "cell_type": "code",
   "execution_count": 56,
   "metadata": {},
   "outputs": [
    {
     "data": {
      "image/png": "[encoded data removed]",
      "text/plain": [
       "<matplotlib.figure.Figure at 0x7fa1dc352d30>"
      ]
     },
     "metadata": {},
     "output_type": "display_data"
    }
   ],
   "source": [
    "from matplotlib import pyplot as plt\n",
    "\n",
    "plt.figure()\n",
    "plt.plot(mean_cost)\n",
    "plt.plot(mini_cost)\n",
    "plt.show()"
   ]
  },
  {
   "cell_type": "code",
   "execution_count": 57,
   "metadata": {},
   "outputs": [
    {
     "data": {
      "text/plain": [
       "-959.54343871518518"
      ]
     },
     "execution_count": 57,
     "metadata": {},
     "output_type": "execute_result"
    }
   ],
   "source": [
    "np.min(mini_cost)"
   ]
  },
  {
   "cell_type": "code",
   "execution_count": null,
   "metadata": {},
   "outputs": [],
   "source": []
  }
 ],
 "metadata": {
  "kernelspec": {
   "display_name": "Python 3",
   "language": "python",
   "name": "python3"
  },
  "language_info": {
   "codemirror_mode": {
    "name": "ipython",
    "version": 3
   },
   "file_extension": ".py",
   "mimetype": "text/x-python",
   "name": "python",
   "nbconvert_exporter": "python",
   "pygments_lexer": "ipython3",
   "version": "3.6.3"
  }
 },
 "nbformat": 4,
 "nbformat_minor": 2
}
